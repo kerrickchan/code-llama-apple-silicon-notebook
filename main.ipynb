{
 "cells": [
  {
   "cell_type": "code",
   "execution_count": 1,
   "metadata": {},
   "outputs": [
    {
     "name": "stdout",
     "output_type": "stream",
     "text": [
      "Requirement already satisfied: torch in /opt/homebrew/Caskroom/miniconda/base/envs/llama/lib/python3.11/site-packages (2.2.2)\n",
      "Requirement already satisfied: torchvision in /opt/homebrew/Caskroom/miniconda/base/envs/llama/lib/python3.11/site-packages (0.17.2)\n",
      "Requirement already satisfied: torchaudio in /opt/homebrew/Caskroom/miniconda/base/envs/llama/lib/python3.11/site-packages (2.2.2)\n",
      "Requirement already satisfied: filelock in /opt/homebrew/Caskroom/miniconda/base/envs/llama/lib/python3.11/site-packages (from torch) (3.13.3)\n",
      "Requirement already satisfied: typing-extensions>=4.8.0 in /opt/homebrew/Caskroom/miniconda/base/envs/llama/lib/python3.11/site-packages (from torch) (4.10.0)\n",
      "Requirement already satisfied: sympy in /opt/homebrew/Caskroom/miniconda/base/envs/llama/lib/python3.11/site-packages (from torch) (1.12)\n",
      "Requirement already satisfied: networkx in /opt/homebrew/Caskroom/miniconda/base/envs/llama/lib/python3.11/site-packages (from torch) (3.2.1)\n",
      "Requirement already satisfied: jinja2 in /opt/homebrew/Caskroom/miniconda/base/envs/llama/lib/python3.11/site-packages (from torch) (3.1.3)\n",
      "Requirement already satisfied: fsspec in /opt/homebrew/Caskroom/miniconda/base/envs/llama/lib/python3.11/site-packages (from torch) (2024.3.1)\n",
      "Requirement already satisfied: numpy in /opt/homebrew/Caskroom/miniconda/base/envs/llama/lib/python3.11/site-packages (from torchvision) (1.26.4)\n",
      "Requirement already satisfied: pillow!=8.3.*,>=5.3.0 in /opt/homebrew/Caskroom/miniconda/base/envs/llama/lib/python3.11/site-packages (from torchvision) (10.2.0)\n",
      "Requirement already satisfied: MarkupSafe>=2.0 in /opt/homebrew/Caskroom/miniconda/base/envs/llama/lib/python3.11/site-packages (from jinja2->torch) (2.1.5)\n",
      "Requirement already satisfied: mpmath>=0.19 in /opt/homebrew/Caskroom/miniconda/base/envs/llama/lib/python3.11/site-packages (from sympy->torch) (1.3.0)\n",
      "Note: you may need to restart the kernel to use updated packages.\n"
     ]
    }
   ],
   "source": [
    "# Setup Environment\n",
    "\n",
    "# Manual Steps\n",
    "# create conda environment manually\n",
    "# 1. run below code in the terminal\n",
    "# conda create --name llama python=3.11\n",
    "# 2. reopen the terminal and activate the environment\n",
    "# 3. select the Select Kernel option in the Jupyter Notebook to use the new environment\n",
    "# 4. install torch, torchvision, torchaudio in the environment\n",
    "%pip install torch torchvision torchaudio\n",
    "# 5. manual install the ctransformers package with Metal support\n",
    "# chmod +x ./scripts/install_ctransformers.sh"
   ]
  },
  {
   "cell_type": "markdown",
   "metadata": {},
   "source": []
  },
  {
   "cell_type": "code",
   "execution_count": 3,
   "metadata": {},
   "outputs": [
    {
     "data": {
      "application/vnd.jupyter.widget-view+json": {
       "model_id": "3f9d627efdcc4935860f8578402ce486",
       "version_major": 2,
       "version_minor": 0
      },
      "text/plain": [
       "Fetching 1 files:   0%|          | 0/1 [00:00<?, ?it/s]"
      ]
     },
     "metadata": {},
     "output_type": "display_data"
    },
    {
     "data": {
      "application/vnd.jupyter.widget-view+json": {
       "model_id": "fc6de983d0544c2db2181a35ff320ea3",
       "version_major": 2,
       "version_minor": 0
      },
      "text/plain": [
       "Fetching 1 files:   0%|          | 0/1 [00:00<?, ?it/s]"
      ]
     },
     "metadata": {},
     "output_type": "display_data"
    },
    {
     "name": "stdout",
     "output_type": "stream",
     "text": [
      " replace people… So get smart in cyber-sick times with artificial immunodeficiency: your free (so you own them all forever and may have one every color now… even your kid wants your kid on someones face but she thinks i would really know and no there arnt asian…)\n",
      "\n",
      "### 1.0.0\n",
      "\n",
      "- [x] 1.0.0\n"
     ]
    }
   ],
   "source": [
    "# test llama 7b\n",
    "from ctransformers import AutoModelForCausalLM\n",
    "\n",
    "# Set gpu_layers to the number of layers to offload to GPU. Set to 0 if no GPU acceleration is available on your system.\n",
    "llm = AutoModelForCausalLM.from_pretrained(\"TheBloke/Llama-2-7B-GGUF\", model_file=\"llama-2-7b.Q4_K_M.gguf\", model_type=\"llama\", gpu_layers=50)\n",
    "\n",
    "for text in llm(\"AI is going to\", stream=True):\n",
    "  print(text, end='')\n"
   ]
  },
  {
   "cell_type": "code",
   "execution_count": 2,
   "metadata": {},
   "outputs": [
    {
     "data": {
      "application/vnd.jupyter.widget-view+json": {
       "model_id": "7ceaf48ead914a5b961136e629fea542",
       "version_major": 2,
       "version_minor": 0
      },
      "text/plain": [
       "Fetching 1 files:   0%|          | 0/1 [00:00<?, ?it/s]"
      ]
     },
     "metadata": {},
     "output_type": "display_data"
    },
    {
     "data": {
      "application/vnd.jupyter.widget-view+json": {
       "model_id": "bce010cdea554667949de58ec6560106",
       "version_major": 2,
       "version_minor": 0
      },
      "text/plain": [
       "Fetching 1 files:   0%|          | 0/1 [00:00<?, ?it/s]"
      ]
     },
     "metadata": {},
     "output_type": "display_data"
    },
    {
     "name": "stdout",
     "output_type": "stream",
     "text": [
      "Config(top_k=40, top_p=0.95, temperature=0.8, repetition_penalty=1.1, last_n_tokens=64, seed=-1, batch_size=8, threads=-1, max_new_tokens=256, stop=None, stream=False, reset=True, context_length=-1, gpu_layers=32, mmap=True, mlock=False)\n",
      "\n",
      "    return x*2 + 10\n",
      "\n",
      "def derivative(x):\n",
      "    return 2*x + 10\n",
      "\n",
      "import math\n",
      "print('For function y = f(x)')\n",
      "a,b= map(int, input().split())\n",
      "n= int(input())\n",
      "h=(b-a)/n\n",
      "y=function(a)+derivative(a)*h/2\n",
      "for i in range(1,n):\n",
      "    x=a+i*h\n",
      "    y+=function(x)\n",
      "print('For function y = f(x)')\n",
      "a,b= map(int, input().split())\n",
      "n= int(input())\n",
      "h=(b-a)/n\n",
      "y=function(a)+derivative(a)*h/2\n",
      "for i in range(1,n):\n",
      "    x=a+i*h\n",
      "    y+=function(x)\n",
      "print('For function y = f(x)')\n",
      "a,b= map(int, input().split())\n",
      "n= int(input())\n",
      "h=(b-a)/n\n",
      "y=function(a)+derivative(a)*h/2\n",
      "for"
     ]
    }
   ],
   "source": [
    "# test code llma 13b\n",
    "from ctransformers import AutoModelForCausalLM\n",
    "\n",
    "llm = AutoModelForCausalLM.from_pretrained(\"TheBloke/CodeLlama-13B-Instruct-GGUF\", model_file=\"codellama-13b-instruct.Q4_K_M.gguf\", model_type=\"llama\", gpu_layers=32)\n",
    "\n",
    "print(llm.config)\n",
    "\n",
    "for text in llm(\"def function(x):\", stream=True):\n",
    "  print(text, end=\"\")\n"
   ]
  },
  {
   "cell_type": "code",
   "execution_count": 1,
   "metadata": {},
   "outputs": [
    {
     "data": {
      "application/vnd.jupyter.widget-view+json": {
       "model_id": "e2ed767391264c2dac1a4062fdefed75",
       "version_major": 2,
       "version_minor": 0
      },
      "text/plain": [
       "Fetching 1 files:   0%|          | 0/1 [00:00<?, ?it/s]"
      ]
     },
     "metadata": {},
     "output_type": "display_data"
    },
    {
     "data": {
      "application/vnd.jupyter.widget-view+json": {
       "model_id": "4321da0e73e643fba6595374b1a82b21",
       "version_major": 2,
       "version_minor": 0
      },
      "text/plain": [
       "Fetching 1 files:   0%|          | 0/1 [00:00<?, ?it/s]"
      ]
     },
     "metadata": {},
     "output_type": "display_data"
    },
    {
     "data": {
      "application/vnd.jupyter.widget-view+json": {
       "model_id": "de3bd8e35c194b379b071321a2142d19",
       "version_major": 2,
       "version_minor": 0
      },
      "text/plain": [
       "phind-codellama-34b-v2.Q4_K_M.gguf:   0%|          | 0.00/20.2G [00:00<?, ?B/s]"
      ]
     },
     "metadata": {},
     "output_type": "display_data"
    },
    {
     "name": "stdout",
     "output_type": "stream",
     "text": [
      "Config(top_k=40, top_p=0.95, temperature=0.8, repetition_penalty=1.1, last_n_tokens=64, seed=-1, batch_size=8, threads=-1, max_new_tokens=256, stop=None, stream=False, reset=True, context_length=-1, gpu_layers=48, mmap=True, mlock=False)\n",
      "\n",
      "    return x**2\n",
      "\n",
      "def main():\n",
      "    import numpy as np\n",
      "    from scipy.optimize import fsolve\n",
      "    a = 3 #function parameter\n",
      "    b = 5 #function parameter\n",
      "    \n",
      "    def eqn(x):\n",
      "        return a*x - function(x) - b\n",
      "\n",
      "    # Find root using fsolve\n",
      "    x_root = fsolve(eqn, 0)\n",
      "\n",
      "    print('Root is:', x_root[0])\n",
      "\n",
      "if __name__ == '__main__':\n",
      "    main()"
     ]
    }
   ],
   "source": [
    "# test phind code llama 34b\n",
    "from ctransformers import AutoModelForCausalLM\n",
    "\n",
    "llm = AutoModelForCausalLM.from_pretrained(\"TheBloke/Phind-CodeLlama-34B-v2-GGUF\", model_file=\"phind-codellama-34b-v2.Q4_K_M.gguf\", model_type=\"llama\", gpu_layers=48)\n",
    "\n",
    "print(llm.config)\n",
    "\n",
    "for text in llm(\"def function(x):\", stream=True):\n",
    "  print(text, end=\"\")\n"
   ]
  }
 ],
 "metadata": {
  "kernelspec": {
   "display_name": "hf",
   "language": "python",
   "name": "python3"
  },
  "language_info": {
   "codemirror_mode": {
    "name": "ipython",
    "version": 3
   },
   "file_extension": ".py",
   "mimetype": "text/x-python",
   "name": "python",
   "nbconvert_exporter": "python",
   "pygments_lexer": "ipython3",
   "version": "3.11.8"
  }
 },
 "nbformat": 4,
 "nbformat_minor": 2
}
